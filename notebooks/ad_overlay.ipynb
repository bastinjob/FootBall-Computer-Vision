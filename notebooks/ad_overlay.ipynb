{
 "cells": [
  {
   "cell_type": "code",
   "execution_count": 48,
   "id": "21b00b93",
   "metadata": {},
   "outputs": [],
   "source": [
    "import cv2\n",
    "import numpy as np\n",
    "import os"
   ]
  },
  {
   "cell_type": "code",
   "execution_count": 49,
   "id": "bdc812d7",
   "metadata": {},
   "outputs": [],
   "source": [
    "root= os.path.abspath(os.path.join(os.getcwd(), '..'))"
   ]
  },
  {
   "cell_type": "code",
   "execution_count": 79,
   "id": "a228f3a6",
   "metadata": {},
   "outputs": [],
   "source": [
    "#input\n",
    "input_video_path  = os.path.join(root, 'data/input_video.mp4')\n",
    "ad_image_path_1 = os.path.join(root, 'data/ad1.png')\n",
    "ad_image_path_2 = os.path.join(root, 'data/ad2.png')\n",
    "output_video_path = os.path.join(root, 'outputs/ad_overlay.mp4')"
   ]
  },
  {
   "cell_type": "code",
   "execution_count": 86,
   "id": "b1b1831d",
   "metadata": {},
   "outputs": [],
   "source": [
    "# Load ad image and resize\n",
    "ad_image_1 = cv2.imread(ad_image_path_1, cv2.IMREAD_UNCHANGED)\n",
    "\n",
    "if ad_image_1.shape[2] == 4:\n",
    "    ad_rgb = ad_image_1[:, :, :3]\n",
    "    ad_alpha = ad_image_1[:, :, 3]\n",
    "else:\n",
    "    ad_rgb = ad_image_1\n",
    "    ad_alpha = np.ones(ad_rgb.shape[:2], dtype=np.uint8) * 255\n",
    "\n",
    "ad_rgb = cv2.resize(ad_rgb, (450, 300))\n",
    "ad_alpha = cv2.resize(ad_alpha, (450, 300))"
   ]
  },
  {
   "cell_type": "code",
   "execution_count": 69,
   "id": "c941fbf0",
   "metadata": {},
   "outputs": [],
   "source": [
    "# Load ad image and resize\n",
    "ad_image_2 = cv2.imread(ad_image_path_2, cv2.IMREAD_UNCHANGED)\n",
    "\n",
    "if ad_image_2.shape[2] == 4:\n",
    "    ad_rgb = ad_image_2[:, :, :3]\n",
    "    ad_alpha = ad_image_2[:, :, 3]\n",
    "else:\n",
    "    ad_rgb = ad_image_2\n",
    "    ad_alpha = np.ones(ad_rgb.shape[:2], dtype=np.uint8) * 255\n",
    "\n",
    "ad_rgb = cv2.resize(ad_rgb, (450, 300))\n",
    "ad_alpha = cv2.resize(ad_alpha, (450, 300))"
   ]
  },
  {
   "cell_type": "code",
   "execution_count": 87,
   "id": "51ad6c38",
   "metadata": {},
   "outputs": [],
   "source": [
    "src_pts = np.array([\n",
    "    [0, 0],\n",
    "    [ad_rgb.shape[1], 0],\n",
    "    [ad_rgb.shape[1], ad_rgb.shape[0]],\n",
    "    [0, ad_rgb.shape[0]]\n",
    "], dtype=np.float32)"
   ]
  },
  {
   "cell_type": "code",
   "execution_count": 88,
   "id": "e2b27c97",
   "metadata": {},
   "outputs": [],
   "source": [
    "# === VIDEO SETUP ===\n",
    "cap = cv2.VideoCapture(input_video_path)\n",
    "ret, first_frame = cap.read()\n",
    "\n",
    "if not ret:\n",
    "    print(\"Error reading video.\")\n",
    "    cap.release()\n",
    "    exit()\n",
    "\n",
    "first_frame = cv2.resize(first_frame, (1280, 720))\n",
    "frame_size = (first_frame.shape[1], first_frame.shape[0])\n",
    "fps = cap.get(cv2.CAP_PROP_FPS)\n"
   ]
  },
  {
   "cell_type": "code",
   "execution_count": 89,
   "id": "d6ac517b",
   "metadata": {},
   "outputs": [
    {
     "name": "stdout",
     "output_type": "stream",
     "text": [
      "Select 4 points on the field for the ad placement.\n",
      "Point 1: (60, 336)\n",
      "Point 2: (297, 276)\n",
      "Point 3: (523, 312)\n",
      "Point 4: (316, 381)\n"
     ]
    }
   ],
   "source": [
    "# === SELECT FIELD CORNERS ===\n",
    "print(\"Select 4 points on the field for the ad placement.\")\n",
    "selected_points = []\n",
    "\n",
    "def mouse_callback(event, x, y, flags, param):\n",
    "    if event == cv2.EVENT_LBUTTONDOWN and len(selected_points) < 4:\n",
    "        selected_points.append((x, y))\n",
    "        print(f\"Point {len(selected_points)}: ({x}, {y})\")\n",
    "\n",
    "clone = first_frame.copy()\n",
    "cv2.namedWindow(\"Select Field Points\")\n",
    "cv2.setMouseCallback(\"Select Field Points\", mouse_callback)\n",
    "\n",
    "while len(selected_points) < 4:\n",
    "    temp = clone.copy()\n",
    "    for pt in selected_points:\n",
    "        cv2.circle(temp, pt, 5, (0, 255, 0), -1)\n",
    "    cv2.imshow(\"Select Field Points\", temp)\n",
    "    cv2.waitKey(1)\n",
    "\n",
    "cv2.destroyWindow(\"Select Field Points\")\n",
    "dst_pts = np.array(selected_points, dtype=np.float32)"
   ]
  },
  {
   "cell_type": "code",
   "execution_count": 90,
   "id": "e81a95c0",
   "metadata": {},
   "outputs": [],
   "source": [
    "# === VIDEO WRITER ===\n",
    "fourcc = cv2.VideoWriter_fourcc(*'mp4v')\n",
    "out = cv2.VideoWriter(output_video_path, fourcc, fps, frame_size)"
   ]
  },
  {
   "cell_type": "code",
   "execution_count": 91,
   "id": "f222c3bd",
   "metadata": {},
   "outputs": [],
   "source": [
    "# === MAIN LOOP ===\n",
    "while cap.isOpened():\n",
    "    ret, frame = cap.read()\n",
    "    if not ret:\n",
    "        break\n",
    "\n",
    "    frame = cv2.resize(frame, frame_size)\n",
    "\n",
    "    # Homography transformation\n",
    "    H = cv2.getPerspectiveTransform(src_pts, dst_pts)\n",
    "    warped_ad = cv2.warpPerspective(ad_rgb, H, frame_size)\n",
    "    warped_alpha = cv2.warpPerspective(ad_alpha, H, frame_size)\n",
    "\n",
    "    mask = warped_alpha / 255.0\n",
    "    inv_mask = 1.0 - mask\n",
    "\n",
    "    for c in range(3):\n",
    "        frame[:, :, c] = frame[:, :, c] * inv_mask + warped_ad[:, :, c] * mask\n",
    "\n",
    "    frame = frame.astype(np.uint8)\n",
    "    out.write(frame)\n",
    "    cv2.imshow(\"Virtual Ad Overlay\", frame)\n",
    "    if cv2.waitKey(1) & 0xFF == ord('q'):\n",
    "        break\n",
    "\n",
    "cap.release()\n",
    "out.release()\n",
    "cv2.destroyAllWindows()\n",
    "\n"
   ]
  },
  {
   "cell_type": "code",
   "execution_count": null,
   "id": "8a0bb844",
   "metadata": {},
   "outputs": [],
   "source": []
  }
 ],
 "metadata": {
  "kernelspec": {
   "display_name": "sports_cv",
   "language": "python",
   "name": "python3"
  },
  "language_info": {
   "codemirror_mode": {
    "name": "ipython",
    "version": 3
   },
   "file_extension": ".py",
   "mimetype": "text/x-python",
   "name": "python",
   "nbconvert_exporter": "python",
   "pygments_lexer": "ipython3",
   "version": "3.13.2"
  }
 },
 "nbformat": 4,
 "nbformat_minor": 5
}
